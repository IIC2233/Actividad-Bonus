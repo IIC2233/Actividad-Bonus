{
 "cells": [
  {
   "cell_type": "markdown",
   "metadata": {
    "id": "tuuQFy57GRuj"
   },
   "source": [
    "# Tutorial de REmatch"
   ]
  },
  {
   "cell_type": "markdown",
   "metadata": {
    "id": "nlAuXCtjAVDu"
   },
   "source": [
    "## Preliminares\n",
    "\n",
    "Para instalar la librería REmatch, en cualquier terminal debes ejecutar el siguiente comando:"
   ]
  },
  {
   "cell_type": "code",
   "execution_count": 1,
   "metadata": {
    "colab": {
     "base_uri": "https://localhost:8080/"
    },
    "executionInfo": {
     "elapsed": 12741,
     "status": "ok",
     "timestamp": 1719003932442,
     "user": {
      "displayName": "Gustavo Toro",
      "userId": "09760523636946192694"
     },
     "user_tz": 240
    },
    "id": "3531edNIAn9X",
    "outputId": "627a7169-8b24-4fe8-de6f-3551a3ce7715"
   },
   "outputs": [
    {
     "name": "stdout",
     "output_type": "stream",
     "text": [
      "Collecting pyrematch\n",
      "  Downloading pyrematch-1.0.1-cp310-cp310-manylinux_2_17_x86_64.manylinux2014_x86_64.whl (784 kB)\n",
      "\u001b[2K     \u001b[90m━━━━━━━━━━━━━━━━━━━━━━━━━━━━━━━━━━━━━━━━\u001b[0m \u001b[32m784.1/784.1 kB\u001b[0m \u001b[31m7.5 MB/s\u001b[0m eta \u001b[36m0:00:00\u001b[0m\n",
      "\u001b[?25hInstalling collected packages: pyrematch\n",
      "Successfully installed pyrematch-1.0.1\n"
     ]
    }
   ],
   "source": [
    "!pip install pyrematch"
   ]
  },
  {
   "cell_type": "markdown",
   "metadata": {
    "id": "SP-HdW5BAqY6"
   },
   "source": [
    "Si ya tienen REmatch instalado, lo pueden actualizar a la última versión ocupando:"
   ]
  },
  {
   "cell_type": "code",
   "execution_count": null,
   "metadata": {
    "colab": {
     "base_uri": "https://localhost:8080/"
    },
    "executionInfo": {
     "elapsed": 8859,
     "status": "ok",
     "timestamp": 1718707400600,
     "user": {
      "displayName": "Cristian Riveros Jaeger",
      "userId": "04593122575025783378"
     },
     "user_tz": -120
    },
    "id": "um0_wJAYAv3I",
    "outputId": "71b920f0-79bc-428f-b6e9-530d90aeec6f"
   },
   "outputs": [
    {
     "name": "stdout",
     "output_type": "stream",
     "text": [
      "Requirement already satisfied: pyrematch in /usr/local/lib/python3.10/dist-packages (1.0.0)\n"
     ]
    }
   ],
   "source": [
    "!pip3 install --upgrade pyrematch"
   ]
  },
  {
   "cell_type": "markdown",
   "metadata": {
    "id": "KB3oqKZHSfBU"
   },
   "source": [
    "## Motivación\n",
    "\n",
    "Suponga que usted quiere hacer un análisis lingüístico centrado en las relaciones que tiene Chile con sus países vecinos. Un posible punto de inicio sería analizar la página de Wikipedia correspondiente a la Historia de Chile.\n",
    "Para esto, extraeremos el contenido la página de Chile en Wikipedia (en inglés), usando la librería de Python `wikipedia` que nos permite acceder páginas de Wikipedia a travez de una API. A continuación, accederemos la página de Wikipedia sobre Chile (en inglés) y lo almacenamos en la variable `text`."
   ]
  },
  {
   "cell_type": "code",
   "execution_count": null,
   "metadata": {
    "colab": {
     "base_uri": "https://localhost:8080/"
    },
    "executionInfo": {
     "elapsed": 8926,
     "status": "ok",
     "timestamp": 1718708831490,
     "user": {
      "displayName": "Cristian Riveros Jaeger",
      "userId": "04593122575025783378"
     },
     "user_tz": -120
    },
    "id": "-rt1O-5zB1Es",
    "outputId": "3ce94d5d-8665-427d-ec2e-ead9016716e6"
   },
   "outputs": [
    {
     "name": "stdout",
     "output_type": "stream",
     "text": [
      "Collecting wikipedia\n",
      "  Downloading wikipedia-1.4.0.tar.gz (27 kB)\n",
      "  Preparing metadata (setup.py) ... \u001b[?25l\u001b[?25hdone\n",
      "Requirement already satisfied: beautifulsoup4 in /usr/local/lib/python3.10/dist-packages (from wikipedia) (4.12.3)\n",
      "Requirement already satisfied: requests<3.0.0,>=2.0.0 in /usr/local/lib/python3.10/dist-packages (from wikipedia) (2.31.0)\n",
      "Requirement already satisfied: charset-normalizer<4,>=2 in /usr/local/lib/python3.10/dist-packages (from requests<3.0.0,>=2.0.0->wikipedia) (3.3.2)\n",
      "Requirement already satisfied: idna<4,>=2.5 in /usr/local/lib/python3.10/dist-packages (from requests<3.0.0,>=2.0.0->wikipedia) (3.7)\n",
      "Requirement already satisfied: urllib3<3,>=1.21.1 in /usr/local/lib/python3.10/dist-packages (from requests<3.0.0,>=2.0.0->wikipedia) (2.0.7)\n",
      "Requirement already satisfied: certifi>=2017.4.17 in /usr/local/lib/python3.10/dist-packages (from requests<3.0.0,>=2.0.0->wikipedia) (2024.6.2)\n",
      "Requirement already satisfied: soupsieve>1.2 in /usr/local/lib/python3.10/dist-packages (from beautifulsoup4->wikipedia) (2.5)\n",
      "Building wheels for collected packages: wikipedia\n",
      "  Building wheel for wikipedia (setup.py) ... \u001b[?25l\u001b[?25hdone\n",
      "  Created wheel for wikipedia: filename=wikipedia-1.4.0-py3-none-any.whl size=11680 sha256=cf692784baca9b219963b82b58d406fb5a0daf2654fff331fd5919e7d4c428ff\n",
      "  Stored in directory: /root/.cache/pip/wheels/5e/b6/c5/93f3dec388ae76edc830cb42901bb0232504dfc0df02fc50de\n",
      "Successfully built wikipedia\n",
      "Installing collected packages: wikipedia\n",
      "Successfully installed wikipedia-1.4.0\n"
     ]
    }
   ],
   "source": [
    "!pip3 install --upgrade wikipedia"
   ]
  },
  {
   "cell_type": "code",
   "execution_count": null,
   "metadata": {
    "colab": {
     "base_uri": "https://localhost:8080/"
    },
    "executionInfo": {
     "elapsed": 1035,
     "status": "ok",
     "timestamp": 1718708840156,
     "user": {
      "displayName": "Cristian Riveros Jaeger",
      "userId": "04593122575025783378"
     },
     "user_tz": -120
    },
    "id": "n2GuPwViSfBU",
    "outputId": "62616571-34a8-476e-cc43-e97490a16ae2"
   },
   "outputs": [
    {
     "name": "stdout",
     "output_type": "stream",
     "text": [
      "Chile, officially the Republic of Chile, is a country in western South America. It is the southernmost country in the world and the closest to Antarctica, stretching along a narrow strip of land between the Andes Mountains and the Pacific Ocean. Chile had a population of 17.5 million as of the latest census in 2017 and has a territorial area of 756,102 square kilometers (291,933 sq mi), sharing borders with Peru to the north, Bolivia to the northeast, Argentina to the east, and the Drake Passage to the south. The country also controls several Pacific islands, including Juan Fernández, Isla Salas y Gómez, Desventuradas, and Easter Island, and claims about 1,250,000 square kilometers (480,000 sq mi) of Antarctica as the Chilean Antarctic Territory. The capital and largest city of Chile is Santiago, and the national language is Spanish.\n",
      "Spain conquered and colonized the region in the mid-16th century, replacing Inca rule, but failed to conquer the independent Mapuche people who inhabited what is now south-central Chile. Chile emerged as a relatively stable authoritarian republic in the 1830s after their 1818 declaration of independence from Spain. During the 19th century, Chile experienced significant economic and territorial growth, putting an end to Mapuche resistance in the 1880s and gaining its current northern territory in the War of the Pacific (1879–83) by defeating Peru and Bolivia. In the 20th century, up until the 1970s, Chile underwent a process of democratization and experienced rapid population growth and urbanization, while relying increasingly on exports from copper mining to support its economy. During the 1960s and 1970s, the country was marked by severe left-right political polarization and turmoil, which culminated in the 1973 Chilean coup d'état that overthrew Salvador Allende's democratically elected left-wing government. This was followed by a 16-year right-wing military dictatorship under Augusto Pinochet, which resulted in more than 3,000 deaths ...\n"
     ]
    }
   ],
   "source": [
    "import wikipedia\n",
    "text = wikipedia.page(\"Chile\", auto_suggest=False).content\n",
    "\n",
    "# Imprimir los primeros 2000 caracteres\n",
    "print(text[:2000], '...')"
   ]
  },
  {
   "cell_type": "markdown",
   "metadata": {
    "id": "go1OEfLNSfBU"
   },
   "source": [
    "Suponga ahora que usted desea extraer todas las oraciones del artículo de Wikipedia que mencionan primero a Chile y luego a alguno de sus países vecinos (Argentina, Bolivia o Perú). Entiéndase por una oración como un string que no posee ni saltos de línea ni puntos. Realizar esto en Python sin la ayuda de una librería puede resultar complicado. Un intento podría ser:"
   ]
  },
  {
   "cell_type": "code",
   "execution_count": null,
   "metadata": {
    "colab": {
     "base_uri": "https://localhost:8080/"
    },
    "executionInfo": {
     "elapsed": 285,
     "status": "ok",
     "timestamp": 1718709084238,
     "user": {
      "displayName": "Cristian Riveros Jaeger",
      "userId": "04593122575025783378"
     },
     "user_tz": -120
    },
    "id": "QYxFMs1lSfBU",
    "outputId": "3189fe40-cd50-42af-ea86-3ddf9989aa87"
   },
   "outputs": [
    {
     "name": "stdout",
     "output_type": "stream",
     "text": [
      "1.  During the 19th century, Chile experienced significant economic and territorial growth, putting an end to Mapuche resistance in the 1880s and gaining its current northern territory in the War of the Pacific (1879–83) by defeating Peru and Bolivia\n",
      "2.  The next Europeans to reach Chile were Diego de Almagro and his band of Spanish conquistadors, who came from Peru in 1535 seeking gold\n",
      "3.  Chile hosted one of the largest standing armies in the Americas, making it one of the most militarized of the Spanish possessions, as well as a drain on the treasury of the Viceroyalty of Peru\n",
      "4.  The Boundary treaty of 1881 between Chile and Argentina confirmed Chilean sovereignty over the Strait of Magellan but also made the country to renounce to its claims in the rest of East Patagonia after a dispute that started in 1842\n",
      "5.  As a result of the War of the Pacific with Peru and Bolivia (1879–83), Chile expanded its territory northward by almost one-third, eliminating Bolivia's access to the Pacific, and acquired valuable nitrate deposits, the exploitation of which led to an era of national affluence\n",
      "6. In 1902 Chile and Argentina received the result from the arbitral award of the Andes resolved by the British Crown\n",
      "7. In 1904 Chile and Bolivia sign a Treaty of Peace and Friendship which clarified the border between both countries\n",
      "8. Chile is home to the world-renowned Patagonian Trail that resides on the border between Argentina and Chile\n",
      "9.  The Dakar Rally off-road automobile race has been held in both Chile and Argentina since 2009\n"
     ]
    }
   ],
   "source": [
    "count = 1\n",
    "for line in text.split('\\n'):\n",
    "    for sentence in line.split('.'):\n",
    "        x = sentence.find(\"Chile \")\n",
    "        if x != -1:\n",
    "            for pais in [\"Peru\", \"Argentina\", \"Bolivia\"]:\n",
    "                y = sentence.find(pais, x)\n",
    "                if y != -1:\n",
    "                    print(\"{}. {}\".format(count, sentence))\n",
    "                    count += 1\n",
    "                    break"
   ]
  },
  {
   "cell_type": "markdown",
   "metadata": {
    "id": "Gm_WTNgmSfBU"
   },
   "source": [
    "En el código anterior, por cada línea del documento, se hace uso de el método `find` de un string en Python para buscar las palabras relevantes.\n",
    "\n",
    "Esta tarea no requiere mucho esfuerzo de su parte. Ahora, imagine que como experto en datos usted requiere hacer esta tarea multiples veces al dia, con distintos data sets (potencialmente con grandes volumenes de datos) y donde los requerimientos son muy distintos para cada extracción. Si bien escribir y probar este código le puede tomar 10 minutos a 30 minutos en promedio, realizar esta tarea reiteradas veces puede ser un costo innecesario para su quehacer como experto en datos. Notar también que lo más seguro es que su programa en Python no será muy eficiente y puede que tome varios minutos en terminar para documentos de gran tamaño.  \n",
    "\n",
    "De hecho, la misma tarea anterior se puede hacer con las siguientes lineas de código, usando la librería REmatch."
   ]
  },
  {
   "cell_type": "code",
   "execution_count": null,
   "metadata": {
    "colab": {
     "base_uri": "https://localhost:8080/"
    },
    "executionInfo": {
     "elapsed": 279,
     "status": "ok",
     "timestamp": 1718713169925,
     "user": {
      "displayName": "Cristian Riveros Jaeger",
      "userId": "04593122575025783378"
     },
     "user_tz": -120
    },
    "id": "MztwPdyjSfBU",
    "outputId": "a2faaec7-a381-4e6d-93c1-f362335397f2"
   },
   "outputs": [
    {
     "name": "stdout",
     "output_type": "stream",
     "text": [
      "1.  During the 19th century, Chile experienced significant economic and territorial growth, putting an end to Mapuche resistance in the 1880s and gaining its current northern territory in the War of the Pacific (1879–83) by defeating Peru and Bolivia.\n",
      "2.  The next Europeans to reach Chile were Diego de Almagro and his band of Spanish conquistadors, who came from Peru in 1535 seeking gold.\n",
      "3.  Chile hosted one of the largest standing armies in the Americas, making it one of the most militarized of the Spanish possessions, as well as a drain on the treasury of the Viceroyalty of Peru.\n",
      "4.  The Boundary treaty of 1881 between Chile and Argentina confirmed Chilean sovereignty over the Strait of Magellan but also made the country to renounce to its claims in the rest of East Patagonia after a dispute that started in 1842.\n",
      "5.  As a result of the War of the Pacific with Peru and Bolivia (1879–83), Chile expanded its territory northward by almost one-third, eliminating Bolivia's access to the Pacific, and acquired valuable nitrate deposits, the exploitation of which led to an era of national affluence.\n",
      "6. In 1902 Chile and Argentina received the result from the arbitral award of the Andes resolved by the British Crown.\n",
      "7. In 1904 Chile and Bolivia sign a Treaty of Peace and Friendship which clarified the border between both countries.\n",
      "8. Chile is home to the world-renowned Patagonian Trail that resides on the border between Argentina and Chile.\n",
      "9.  The Dakar Rally off-road automobile race has been held in both Chile and Argentina since 2009.\n"
     ]
    }
   ],
   "source": [
    "import pyrematch as REmatch\n",
    "\n",
    "query = REmatch.reql(\"(^|[\\n.])!sentence{[^.\\n]*Chile [^.\\n]+(Peru|Argentina|Bolivia)[^.\\n]*\\.}\")\n",
    "\n",
    "for idx, match in enumerate(query.finditer(text)):\n",
    "    print(f\"{idx+1}. {match.group('sentence')}\")"
   ]
  },
  {
   "cell_type": "markdown",
   "metadata": {
    "id": "1mfZlkqSSfBU"
   },
   "source": [
    "La mayor parte de las lineas del código anterior son para llamar y ejecutar la librería REmatch. De hecho, toda la tarea se encuentra descrita en:\n",
    "\n",
    "`(^|[\\n.])!sentence{[^.\\n]*Chile [^.\\n]+(Peru|Argentina|Bolivia)[^.\\n]*\\.}`\n",
    "\n",
    "el cuál es un patron que describe la tarea de extracción que debe hacer la librería. El lenguaje de este patrón es REQL (Regular Expression Query Language), el lenguaje de consultas de REmatch. REQL es una extensión de expresiones regulares (o regex), el cuál es un lenguaje de caracteres y operadores especiales que nos permiten describir grupos de secuencias en *strings*, que a uno le gustaría identificar, verificar, y extraer.\n",
    "\n",
    "En este tutorial repasaremos los operadores de expresiones regulares que están soportados por REQL para después demostrar como extender estos patrones con variables para extraer información desde documentos con la librería REmatch. Para una versión extendida de este tutorial, puedes ir a la página https://rematch.cl/tutorial o al wiki https://github.com/REmatchChile/REmatch/wiki."
   ]
  },
  {
   "cell_type": "markdown",
   "metadata": {
    "id": "1IAltI8KGRu_"
   },
   "source": [
    "## Operadores de expresiones regulares en REQL\n",
    "\n",
    "### Patrones sencillos\n",
    "\n",
    "La forma más sencilla de una expresión regular es un *palabra*. Una palabra como `gmail` define la secuencia 'gmail' y describe que solo los strings que contengan la palabra 'gmail' cumplirán con la propiedad. Por ejemplo, el siguiente código muestra un arreglo de strings, donde cada uno es un correo. Con la función **check** de la librería REmatch verificaremos si se encuentra la palabra 'gmail' en cada correo y, de ser así, la imprimiremos como output."
   ]
  },
  {
   "cell_type": "code",
   "execution_count": 2,
   "metadata": {
    "executionInfo": {
     "elapsed": 865,
     "status": "ok",
     "timestamp": 1719003945086,
     "user": {
      "displayName": "Gustavo Toro",
      "userId": "09760523636946192694"
     },
     "user_tz": 240
    },
    "id": "aq97aqpVGRvA"
   },
   "outputs": [],
   "source": [
    "# Importamos la librería REmatch\n",
    "import pyrematch as REmatch"
   ]
  },
  {
   "cell_type": "code",
   "execution_count": null,
   "metadata": {
    "colab": {
     "base_uri": "https://localhost:8080/"
    },
    "executionInfo": {
     "elapsed": 302,
     "status": "ok",
     "timestamp": 1718713691987,
     "user": {
      "displayName": "Cristian Riveros Jaeger",
      "userId": "04593122575025783378"
     },
     "user_tz": -120
    },
    "id": "kHUzrWzuGRvG",
    "outputId": "1ad1283e-d2d6-407f-bab0-b53e5a11feba"
   },
   "outputs": [
    {
     "name": "stdout",
     "output_type": "stream",
     "text": [
      "cperez@gmail.com cumple con el patrón\n",
      "sdelcampo@gmail.com cumple con el patrón\n",
      "nomail@gmail.coom cumple con el patrón\n"
     ]
    }
   ],
   "source": [
    "# Definimos un conjunto de correos que\n",
    "# necesitamos verificar si cumplen con un patrón.\n",
    "seq = [\"cperez@gmail.com\", \"soto@uc.cl\", \"sdelcampo@gmail.com\",\n",
    "       \"lpalacios@gmeil.com\", \"rramirez@gmsil.com\", \"pvergara@ing.uc.cl\",\n",
    "       \"ndelafuente@ing.puc.cl\", \"tnovoa@mail.uc.cl\", \"nnarea@myucmail.uc.cl\",\n",
    "       \"nomail@gmail.coom\", \"juan.soto@uc.cl\"]\n",
    "\n",
    "# El patrón que ocuparemos es 'gmail'\n",
    "pattern = \"gmail\"\n",
    "\n",
    "# Compilamos nuestro patrón en un objeto Query\n",
    "query = REmatch.reql(pattern)\n",
    "\n",
    "# Verificamos si algun string cumple con el patrón\n",
    "for s in seq:\n",
    "    if query.check(s):\n",
    "        print(f\"{s} cumple con el patrón\")"
   ]
  },
  {
   "cell_type": "markdown",
   "metadata": {
    "id": "pdUW3me9GRvL"
   },
   "source": [
    "Como se puede ver en el ejemplo, la función **check** verifica que el patron `gmail` aparece en un string y retorna `TRUE` si aparece, y `FALSE` en caso contrario.\n",
    "\n",
    "Muchas veces sabremos el patrón que queremos definir, pero existen ciertas posiciones del patrón que puede ser cualquier carácter. Para esto usaremos el operador `.` que significa simplemente que queremos ver una letra. Por ejemplo, si queremos encontrar verificar correos que tienen la palabra 'gm?il' donde la tercera letra puede ser cualquier símbolo, entonces eso lo definimos con la consulta REQL `gm.il` donde el `.` representa cualquier símbolo."
   ]
  },
  {
   "cell_type": "code",
   "execution_count": null,
   "metadata": {
    "colab": {
     "base_uri": "https://localhost:8080/"
    },
    "executionInfo": {
     "elapsed": 282,
     "status": "ok",
     "timestamp": 1718713757393,
     "user": {
      "displayName": "Cristian Riveros Jaeger",
      "userId": "04593122575025783378"
     },
     "user_tz": -120
    },
    "id": "Ww5z954zGRvN",
    "outputId": "52086a8f-d712-407f-8a9c-d49a9934013b"
   },
   "outputs": [
    {
     "name": "stdout",
     "output_type": "stream",
     "text": [
      "cperez@gmail.com cumple con el patrón\n",
      "sdelcampo@gmail.com cumple con el patrón\n",
      "lpalacios@gmeil.com cumple con el patrón\n",
      "rramirez@gmsil.com cumple con el patrón\n",
      "nomail@gmail.coom cumple con el patrón\n"
     ]
    }
   ],
   "source": [
    "seq = [\"cperez@gmail.com\", \"soto@uc.cl\", \"sdelcampo@gmail.com\",\n",
    "       \"lpalacios@gmeil.com\", \"rramirez@gmsil.com\", \"pvergara@ing.uc.cl\",\n",
    "       \"ndelafuente@ing.puc.cl\", \"tnovoa@mail.uc.cl\", \"nnarea@myucmail.uc.cl\",\n",
    "       \"nomail@gmail.coom\", \"juan.soto@uc.cl\"]\n",
    "pattern = \"gm.il\"\n",
    "query = REmatch.reql(pattern)\n",
    "\n",
    "for s in seq:\n",
    "    if query.check(s):\n",
    "        print(f\"{s} cumple con el patrón\")"
   ]
  },
  {
   "cell_type": "markdown",
   "metadata": {
    "id": "gllLlvEXGRvT"
   },
   "source": [
    "Al ejecutar este código, tendremos los mismos resultados que para el patrón sencillo `gmail` pero con más resultados. En algunos casos, con el patrón queremos definir que en esa posición no irá cualquier símbolo, si no un símbolo de una clase en especial. En nuestro ejemplo de 'gm?il' nos gustaría decir que el tercer símbolo es una vocal. Para esto, usamos el operador **```[ ]```** que permite especificar *clases de caracteres*, donde dentro de los párentesis cuadrados enlistamos todos los símbolos que pueden aparecer. Por ejemplo, para definir la clase de vocales, usamos `[aeiou]`, y para decir que queremos encontrar 'gm_il' donde el símbolo _ puede ser una vocal, usamos el patrón `gm[aeiou]il`."
   ]
  },
  {
   "cell_type": "code",
   "execution_count": null,
   "metadata": {
    "colab": {
     "base_uri": "https://localhost:8080/"
    },
    "executionInfo": {
     "elapsed": 9,
     "status": "ok",
     "timestamp": 1718707771973,
     "user": {
      "displayName": "Cristian Riveros Jaeger",
      "userId": "04593122575025783378"
     },
     "user_tz": -120
    },
    "id": "pYq5zf2cGRvU",
    "outputId": "e57e4305-27dc-4aac-a905-3d7714666918"
   },
   "outputs": [
    {
     "name": "stdout",
     "output_type": "stream",
     "text": [
      "cperez@gmail.com cumple con el patrón\n",
      "sdelcampo@gmail.com cumple con el patrón\n",
      "lpalacios@gmeil.com cumple con el patrón\n",
      "nomail@gmail.coom cumple con el patrón\n"
     ]
    }
   ],
   "source": [
    "seq = [\"cperez@gmail.com\", \"soto@uc.cl\", \"sdelcampo@gmail.com\",\n",
    "       \"lpalacios@gmeil.com\", \"rramirez@gmsil.com\", \"pvergara@ing.uc.cl\",\n",
    "       \"ndelafuente@ing.puc.cl\", \"tnovoa@mail.uc.cl\", \"nnarea@myucmail.uc.cl\",\n",
    "       \"nomail@gmail.coom\", \"juan.soto@uc.cl\"]\n",
    "pattern = \"gm[aeiou]il\"\n",
    "query = REmatch.reql(pattern)\n",
    "\n",
    "for s in seq:\n",
    "    if query.check(s):\n",
    "        print(f\"{s} cumple con el patrón\")"
   ]
  },
  {
   "cell_type": "markdown",
   "metadata": {
    "id": "bzVtmXgdGRvZ"
   },
   "source": [
    "La lista de correos anterior ahora se redujo, porque solo queremos los que tienen una vocal en la tercer símbolo. Si queremos agregar más símbolos, podemos colocar todos los que queramos dentro de los **```[ ]```**, como por ejemplo todas las letras minúsculas del abecedario (inglés):\n",
    "\n",
    "`[abcdefghijklmnopqrstuvwxyz]`\n",
    "\n",
    "Obviamente, esto no se ve muy elegante a primera vista. Para simplificar las clases de caracteres, expresiones regulares permiten definir intervalos de caracteres. Si queremos definir todas las letras mínusculas podemos usar `[a-z]`, que significa desde la `a` hasta la `z` (en códificación ASCII), o si queremos todas las letras mayusculas y mínusculas, podemos usar `[a-zA-Z]`, que es lo mismo que `[a-z]` pero agregando el tramo de mayusculas desde la `A` hasta la `Z`. Por último, las clases de caracteres **```[ ]```** permite definir un clase de símbolos que excluye a todos los símbolos enlistados dentro los parentesis. Para esto, usamos el símbolo `^` al comienzo de la clase de caracteres. Así, si queremos decir cualquier símbolo menos las vocales, escribimos `[^abcde]`."
   ]
  },
  {
   "cell_type": "code",
   "execution_count": null,
   "metadata": {
    "colab": {
     "base_uri": "https://localhost:8080/"
    },
    "executionInfo": {
     "elapsed": 256,
     "status": "ok",
     "timestamp": 1718713845628,
     "user": {
      "displayName": "Cristian Riveros Jaeger",
      "userId": "04593122575025783378"
     },
     "user_tz": -120
    },
    "id": "M4Qbf0xVGRvZ",
    "outputId": "e55165e1-504c-4347-f570-adf733bd0cef"
   },
   "outputs": [
    {
     "name": "stdout",
     "output_type": "stream",
     "text": [
      "rramirez@gmsil.com cumple con el patrón\n"
     ]
    }
   ],
   "source": [
    "seq = [\"cperez@gmail.com\", \"soto@uc.cl\", \"sdelcampo@gmail.com\",\n",
    "       \"lpalacios@gmeil.com\", \"rramirez@gmsil.com\", \"pvergara@ing.uc.cl\",\n",
    "       \"ndelafuente@ing.puc.cl\", \"tnovoa@mail.uc.cl\", \"nnarea@myucmail.uc.cl\",\n",
    "       \"nomail@gmail.coom\", \"juan.soto@uc.cl\"]\n",
    "pattern = \"gm[^aeiou]il\"\n",
    "query = REmatch.reql(pattern)\n",
    "\n",
    "for s in seq:\n",
    "    if query.check(s):\n",
    "        print(f\"{s} cumple con el patrón\")"
   ]
  },
  {
   "cell_type": "markdown",
   "metadata": {
    "id": "QLCxsdapGRvf"
   },
   "source": [
    "Lo anterior describe todos los patrones sencillos para encontrar una secuencia de símbolos dentro de un string. Pero, ¿cómo podemos definir que queremos encontrar un punto `.`? Como el punto es parte de la síntaxis del lenguaje, debemos usar el símbolo de escape. Así, si queremos encontrar todos los correos del tipo 'gmail.com', debemos escribir el patrón como `gmail\\.com`. Lo mismo debemos hacer para encontrar símbolos como `[` y`]` que son parte de la sintaxis del lenguaje REQL, cómo los símbolos de otros operadores que veremos a continuación."
   ]
  },
  {
   "cell_type": "markdown",
   "metadata": {
    "id": "1E-ByS3zGRvg"
   },
   "source": [
    "### Disyunción y opcionales\n",
    "\n",
    "Si bien los patrones sencillos nos permite definir una secuencia de largo fijo que queremos encontrar en un string, no nos permite buscar la aparición de dos o más posibilidades a la vez. Por ejemplo, nos gustaría verificar la aparición de la palabra 'gmail' o la palabra 'uc', si cualquier de las dos aparece en el string. Para esto podemos usar el operador de disyunción `|` que nos permite decir `gmail|uc` que se lee como \"queremos ver la aparición de `gmail` **o** `uc` en el string\"."
   ]
  },
  {
   "cell_type": "code",
   "execution_count": null,
   "metadata": {
    "colab": {
     "base_uri": "https://localhost:8080/"
    },
    "executionInfo": {
     "elapsed": 8,
     "status": "ok",
     "timestamp": 1718713981981,
     "user": {
      "displayName": "Cristian Riveros Jaeger",
      "userId": "04593122575025783378"
     },
     "user_tz": -120
    },
    "id": "J72CdseLGRvh",
    "outputId": "8d79a2c3-c405-4e4b-a452-eb6c1a58d59f"
   },
   "outputs": [
    {
     "name": "stdout",
     "output_type": "stream",
     "text": [
      "cperez@gmail.com cumple con el patrón\n",
      "soto@uc.cl cumple con el patrón\n",
      "sdelcampo@gmail.com cumple con el patrón\n",
      "pvergara@ing.uc.cl cumple con el patrón\n",
      "ndelafuente@ing.puc.cl cumple con el patrón\n",
      "tnovoa@mail.uc.cl cumple con el patrón\n",
      "nnarea@myucmail.uc.cl cumple con el patrón\n",
      "nomail@gmail.coom cumple con el patrón\n",
      "juan.soto@uc.cl cumple con el patrón\n"
     ]
    }
   ],
   "source": [
    "seq = [\"cperez@gmail.com\", \"soto@uc.cl\", \"sdelcampo@gmail.com\",\n",
    "       \"lpalacios@gmeil.com\", \"rramirez@gmsil.com\", \"pvergara@ing.uc.cl\",\n",
    "       \"ndelafuente@ing.puc.cl\", \"tnovoa@mail.uc.cl\", \"nnarea@myucmail.uc.cl\",\n",
    "       \"nomail@gmail.coom\", \"juan.soto@uc.cl\"]\n",
    "pattern = \"gmail|uc\"\n",
    "query = REmatch.reql(pattern)\n",
    "\n",
    "for s in seq:\n",
    "    if query.check(s):\n",
    "        print(f\"{s} cumple con el patrón\")"
   ]
  },
  {
   "cell_type": "markdown",
   "metadata": {
    "id": "_h0o3hPPGRvm"
   },
   "source": [
    "Este nuevo operador `|` lo podemos combinar con patrones sencillos, o también dentro de patrones sencillos. Por ejemplo, en vez de utilizar clase de caracteres para definir una vocal, podemos usar la disyunción y definir el patrón `gm(a|e|i|o|u)il`, donde los parentesis son parte de la sintaxis de REQL y nos permite agrupar las disyunciones. En otras palabras, el subpatrón `(a|e|i|o|u)` es equivalente a `[aeiou]`, que define la clase de las vocales. En particular, podemos usar el operador `|` para listar distintas posibilidades en un patrón como `gmail|uc|puc`.\n",
    "\n",
    "Otra forma de elegir entre alternativas en un patrón es usando el operador opcional `?`, que es otra alternativa para usar disyunción. Un ejemplo del opcional es cuando utilizamos `ing\\.(uc|puc)` para buscar la palabra 'ing.uc' o 'ing.puc' en un correo. Ambas palabras son muy parecidas y la única diferencia es que la 'p' puede o no aparecer en el correo. Para esto utilizamos el operador opcional `?` y escribimos el patrón `ing\\.p?uc`."
   ]
  },
  {
   "cell_type": "code",
   "execution_count": null,
   "metadata": {
    "colab": {
     "base_uri": "https://localhost:8080/"
    },
    "executionInfo": {
     "elapsed": 11,
     "status": "ok",
     "timestamp": 1718708022048,
     "user": {
      "displayName": "Cristian Riveros Jaeger",
      "userId": "04593122575025783378"
     },
     "user_tz": -120
    },
    "id": "dbtOesx1GRvn",
    "outputId": "dfc1de3e-5ba2-47ae-fd66-46c6de84aacb"
   },
   "outputs": [
    {
     "name": "stdout",
     "output_type": "stream",
     "text": [
      "pvergara@ing.uc.cl cumple con el patrón\n",
      "ndelafuente@ing.puc.cl cumple con el patrón\n"
     ]
    }
   ],
   "source": [
    "seq = [\"cperez@gmail.com\", \"soto@uc.cl\", \"sdelcampo@gmail.com\",\n",
    "       \"lpalacios@gmeil.com\", \"rramirez@gmsil.com\", \"pvergara@ing.uc.cl\",\n",
    "       \"ndelafuente@ing.puc.cl\", \"tnovoa@mail.uc.cl\", \"nnarea@myucmail.uc.cl\",\n",
    "       \"nomail@gmail.coom\", \"juan.soto@uc.cl\"]\n",
    "pattern = \"ing\\.p?uc\"\n",
    "query = REmatch.reql(pattern)\n",
    "\n",
    "for s in seq:\n",
    "    if query.check(s):\n",
    "        print(f\"{s} cumple con el patrón\")"
   ]
  },
  {
   "cell_type": "markdown",
   "metadata": {
    "id": "hrB6QBxMGRvs"
   },
   "source": [
    "Por último, es importante notar que podemos usar el opcional `?` sobre un patron sencillo, o anidar este operador sobre otros operadores. Por ejemplo, si también queremos que el prefijo 'ing.' puede o no aparecer, entonces esto lo podemos definir como `(ing\\.)?p?uc` donde los paréntesis `( )` nos ayudan para agrupar el subpatrón donde se aplicará el operador opcional."
   ]
  },
  {
   "cell_type": "markdown",
   "metadata": {
    "id": "ykbCoA-DGRvs"
   },
   "source": [
    "### Repeticiones\n",
    "\n",
    "El último y uno de los operadores más importantes son las repeticiones. Nuestras consultas hasta ahora nos permiten identificar patrones dentro de un string, pero una cantidad acotada de posibilidades. Por ejemplo, un patrón como `gmail|p?uc` nos permite identificar la aparición de 'gmail', 'puc' o 'uc' en el string, pero esta es una cantidad acotada de posibilidades (tres).\n",
    "\n",
    "Para definir patrones que puede tener 1-o-más o 0-o-más caracteres, utilizamos los operadores de **repeticiones** `+` y `*`. Por ejemplo, si queremos identificar correos que contengan '@ing.uc.cl' o '@mail.uc.cl', donde lo que esta entre '@' y el siguiente punto no nos interesa, entonces usamos el patrón `@[a-zA-Z]+\\.uc\\.cl`. En esta última, el `[a-zA-Z]+` significa que queremos ver una letra (mayuscula o mínuscula, esto es, `[a-zA-Z]`) una o más veces. En cambio, si queremos permitir correos como '@.uc.cl', entonces podemos usar el operador `*` y escribir el patrón `@[a-zA-Z]*\\.uc\\.cl` donde ahora el `[a-zA-Z]*` significa que deseamos ver una letra cero o más veces."
   ]
  },
  {
   "cell_type": "code",
   "execution_count": null,
   "metadata": {
    "colab": {
     "base_uri": "https://localhost:8080/"
    },
    "executionInfo": {
     "elapsed": 302,
     "status": "ok",
     "timestamp": 1718714115302,
     "user": {
      "displayName": "Cristian Riveros Jaeger",
      "userId": "04593122575025783378"
     },
     "user_tz": -120
    },
    "id": "OVR_nSt6GRvt",
    "outputId": "82d51f4d-f958-42b1-bfcd-e1ae9fcd827e"
   },
   "outputs": [
    {
     "name": "stdout",
     "output_type": "stream",
     "text": [
      "pvergara@ing.uc.cl cumple con el patrón\n",
      "tnovoa@mail.uc.cl cumple con el patrón\n",
      "nnarea@myucmail.uc.cl cumple con el patrón\n"
     ]
    }
   ],
   "source": [
    "seq = [\"cperez@gmail.com\", \"soto@uc.cl\", \"sdelcampo@gmail.com\",\n",
    "       \"lpalacios@gmeil.com\", \"rramirez@gmsil.com\", \"pvergara@ing.uc.cl\",\n",
    "       \"ndelafuente@ing.puc.cl\", \"tnovoa@mail.uc.cl\", \"nnarea@myucmail.uc.cl\",\n",
    "       \"nomail@gmail.coom\", \"juan.soto@uc.cl\"]\n",
    "pattern = \"@[a-zA-Z]+\\.uc\\.cl\"\n",
    "query = REmatch.reql(pattern)\n",
    "\n",
    "for s in seq:\n",
    "    if query.check(s):\n",
    "        print(f\"{s} cumple con el patrón\")"
   ]
  },
  {
   "cell_type": "markdown",
   "metadata": {
    "id": "NE6-B2FvGRvz"
   },
   "source": [
    "El patrón `[a-zA-Z]+` nos permite encontrar uno o más letras en un correo, pero no tiene limite del largo de la palabra. De hecho, el patrón `@[a-zA-Z]+\\.uc\\.cl` calzará con el correo '@a.uc.cl' o con el correo '@aaaaaaaaaaaaaaaaaaaaa.uc.cl' (20 letras o más) o con cualquier largo entre @ y el primer punto. Muchas veces no queremos una cantidad arbitraria de repeticiones de un patrón, si no que una cantidad de repeticiones que esta entre un rango. Para esto, uno puede utilizar el operador de repeticiones con rango `{n,m}` que significa que el patrón se repetira de n a m veces. Volviendo a nuestro ejemplo, si queremos que la palabra del dominio este entre 2 a 5 caracteres, entonces usamos `@[a-zA-Z]{2,5}\\.uc\\.cl`."
   ]
  },
  {
   "cell_type": "code",
   "execution_count": null,
   "metadata": {
    "colab": {
     "base_uri": "https://localhost:8080/"
    },
    "executionInfo": {
     "elapsed": 319,
     "status": "ok",
     "timestamp": 1718714149257,
     "user": {
      "displayName": "Cristian Riveros Jaeger",
      "userId": "04593122575025783378"
     },
     "user_tz": -120
    },
    "id": "rj5l-NjTGRv1",
    "outputId": "e3565a2d-238f-4841-ad04-3d8cf7b2f4f3"
   },
   "outputs": [
    {
     "name": "stdout",
     "output_type": "stream",
     "text": [
      "pvergara@ing.uc.cl cumple con el patrón\n",
      "tnovoa@mail.uc.cl cumple con el patrón\n"
     ]
    }
   ],
   "source": [
    "seq = [\"cperez@gmail.com\", \"soto@uc.cl\", \"sdelcampo@gmail.com\",\n",
    "       \"lpalacios@gmeil.com\", \"rramirez@gmsil.com\", \"pvergara@ing.uc.cl\",\n",
    "       \"ndelafuente@ing.puc.cl\", \"tnovoa@mail.uc.cl\", \"nnarea@myucmail.uc.cl\",\n",
    "       \"nomail@gmail.coom\", \"juan.soto@uc.cl\"]\n",
    "pattern = \"@[a-zA-Z]{2,5}\\.uc\\.cl\"\n",
    "query = REmatch.reql(pattern)\n",
    "\n",
    "for s in seq:\n",
    "    if query.check(s):\n",
    "        print(f\"{s} cumple con el patrón\")"
   ]
  },
  {
   "cell_type": "markdown",
   "metadata": {
    "id": "r8jcfGXuGRv5"
   },
   "source": [
    "### Anclas y abreviaciones\n",
    "\n",
    "Hasta ahora hemos usado nuestros ejemplos pidiendo que la aparición de cada patrón sea en cualquier parte del string. Si bien esto ocurre en la mayoría de los casos, otras veces nos gustará referirnos al comienzo o fin del string, también conocidos como **anclas**. Para esto usaremos el operador `^` para referirse al inicio del string y `$` para referirse al termino del string. Para ejemplificar el uso de ambos operadores, podemos definir un patrón que nos permita verificar que el string completo es un correo electrónico usando lo siguiente:\n",
    "\n",
    "`^[a-zA-Z.]+@[a-zA-Z.]+\\.[a-zA-Z]{2,3}$`\n",
    "\n",
    "Aquí el `^` al comienzo del patrón nos dice que la aparición del patrón tiene que ser desde el comienzo del string y, en cambio, el `$` al final nos dice que el patrón debe terminar justo al final del string."
   ]
  },
  {
   "cell_type": "code",
   "execution_count": null,
   "metadata": {
    "colab": {
     "base_uri": "https://localhost:8080/"
    },
    "executionInfo": {
     "elapsed": 305,
     "status": "ok",
     "timestamp": 1718714182390,
     "user": {
      "displayName": "Cristian Riveros Jaeger",
      "userId": "04593122575025783378"
     },
     "user_tz": -120
    },
    "id": "RKl_72k1GRv6",
    "outputId": "e1629936-c0c1-4f1c-b1cd-963a4bb5046f"
   },
   "outputs": [
    {
     "name": "stdout",
     "output_type": "stream",
     "text": [
      "pvergara@ing.uc.cl cumple con el patrón\n",
      "ndelafuente@ing.puc.cl cumple con el patrón\n",
      "tnovoa@mail.uc.cl cumple con el patrón\n",
      "nnarea@myucmail.uc.cl cumple con el patrón\n"
     ]
    }
   ],
   "source": [
    "seq = [\"cperez@gmail.com\", \"soto@uc.cl\", \"sdelcampo@gmail.com\",\n",
    "       \"lpalacios@gmeil.com\", \"rramirez@gmsil.com\", \"pvergara@ing.uc.cl\",\n",
    "       \"ndelafuente@ing.puc.cl\", \"tnovoa@mail.uc.cl\", \"nnarea@myucmail.uc.cl\",\n",
    "       \"nomail@gmail.coom\", \"juan.soto@uc.cl\"]\n",
    "pattern = \"^[a-zA-Z]+@[a-zA-Z]+\\.[a-zA-Z]+\\.[a-zA-Z]{2,3}$\"\n",
    "query = REmatch.reql(pattern)\n",
    "\n",
    "for s in seq:\n",
    "    if query.check(s):\n",
    "        print(f\"{s} cumple con el patrón\")"
   ]
  },
  {
   "cell_type": "markdown",
   "metadata": {
    "id": "Ils9cXihGRv_"
   },
   "source": [
    "Los símbolos `^` y `$` nos sirven como caracteres especiales para referirnos al comienzo y el fin. Existen también otros símbolos que nos permiten referirnos a clases de símbolos especiales. Por ejemplo, en vez de usar la clase de caracteres `[a-zA-Z]` para referirnos a una letra, las expresiones regulares nos permiten utilizar **abreviaciones** y usar `\\w` para decir cualquier caracter alfa numérico (especificamente, equivalente a `[A-Za-z0-9_]`. Así, nuestro patrón anterior para correos (permitiendo digitos) se vería de la siguiente forma: `^\\w+@\\w+\\.\\w+\\.\\w{2,3}$`."
   ]
  },
  {
   "cell_type": "code",
   "execution_count": null,
   "metadata": {
    "colab": {
     "base_uri": "https://localhost:8080/"
    },
    "executionInfo": {
     "elapsed": 385,
     "status": "ok",
     "timestamp": 1718714279160,
     "user": {
      "displayName": "Cristian Riveros Jaeger",
      "userId": "04593122575025783378"
     },
     "user_tz": -120
    },
    "id": "fXzYj5bYGRwA",
    "outputId": "cc3016d6-bf49-4eb1-d01c-671eae68e5d5"
   },
   "outputs": [
    {
     "name": "stdout",
     "output_type": "stream",
     "text": [
      "pvergara@ing.uc.cl cumple con el patrón\n",
      "ndelafuente@ing.puc.cl cumple con el patrón\n",
      "tnovoa@mail.uc.cl cumple con el patrón\n",
      "nnarea@myucmail.uc.cl cumple con el patrón\n"
     ]
    }
   ],
   "source": [
    "seq = [\"cperez@gmail.com\", \"soto@uc.cl\", \"sdelcampo@gmail.com\",\n",
    "       \"lpalacios@gmeil.com\", \"rramirez@gmsil.com\", \"pvergara@ing.uc.cl\",\n",
    "       \"ndelafuente@ing.puc.cl\", \"tnovoa@mail.uc.cl\", \"nnarea@myucmail.uc.cl\",\n",
    "       \"nomail@gmail.coom\", \"juan.soto@uc.cl\"]\n",
    "pattern = \"^\\w+@\\w+\\.\\w+\\.\\w{2,3}$\"\n",
    "query = REmatch.reql(pattern)\n",
    "\n",
    "for s in seq:\n",
    "    if query.check(s):\n",
    "        print(f\"{s} cumple con el patrón\")"
   ]
  },
  {
   "cell_type": "markdown",
   "metadata": {
    "id": "ULFf9IsYGRwD"
   },
   "source": [
    "Existen abreviaciones prestablecidas para ciertas clases de caracteres. Las soportadas por la librería REmatch son las siguientes:\n",
    "\n",
    "- `\\d`: equivale a `[0-9]`;\n",
    "- `\\D`: es equivalente a `[^0-9]`, donde se compara con cualquier caracter que no sea dígito;\n",
    "- `\\s`: equivale a hacer `[\\t\\n\\r\\f\\v]`, compara cualquier tipo de espacio en blanco;\n",
    "- `\\S`: equivale a escribir la clase `[^\\t\\n\\r\\f\\v]`, que compara con cualquier caracter distinto a los espacios en blanco;\n",
    "- `\\w`: es equivalente a la clase `[a-zA-Z0-9_]`, donde se compara con cualquier caracter alfa numérico;\n",
    "- `\\W`: equivale a `[^a-zA-Z0-9_]`, que contempla que no haya ningún caracter alfa numérico."
   ]
  },
  {
   "cell_type": "markdown",
   "metadata": {
    "id": "5BejIvC2LZ6z"
   },
   "source": [
    "Para finalizar, definiremos el patrón REQL que nos permite detectar correos cómo aparecen en el mundo real; quiere decir, los correos de tipo `cristian.perez52@ing.puc.cl`, dónde la primera parte puede tener una o dos palabras alfa numericas separadas por un punto  `.`, seguido por el símbolo `@`, seguido por el dominio que consta de dos o tres partes, la última siendo de largo 2 o 3.\n",
    "\n",
    "La consulta REQL que nos permite definir un correo así ocupa las ideas vista en los ejemplos anteriores, cómo las anclas, las abreviaciones, las repeticiones, y opcionales, y se puede escribir de siguiente manera:\n",
    "```\n",
    "^(\\w+\\.)?\\w+@(\\w+\\.)?\\w+.\\w{2,3}$\n",
    "```\n",
    "Aquí la parte opcional `(\\w+\\.)?` en el inicio del patrón nos permite tener el usuario del correo compuesto de dos palabras, o de una, y después del símbolo `@` permite tener la definición del dominio más compleja.\n",
    "\n",
    "El siguiente código permite verificar que el patrón funciona como deseamos.\n",
    "\n"
   ]
  },
  {
   "cell_type": "code",
   "execution_count": null,
   "metadata": {
    "colab": {
     "base_uri": "https://localhost:8080/"
    },
    "executionInfo": {
     "elapsed": 252,
     "status": "ok",
     "timestamp": 1718708129808,
     "user": {
      "displayName": "Cristian Riveros Jaeger",
      "userId": "04593122575025783378"
     },
     "user_tz": -120
    },
    "id": "JglzIBusOCP5",
    "outputId": "414d9e72-eac8-4223-a09b-ce9a2ac20f41"
   },
   "outputs": [
    {
     "name": "stdout",
     "output_type": "stream",
     "text": [
      "cperez@gmail.com cumple con el patrón\n",
      "soto@uc.cl cumple con el patrón\n",
      "sdelcampo@gmail.com cumple con el patrón\n",
      "lpalacios@gmeil.com cumple con el patrón\n",
      "rramirez@gmsil.com cumple con el patrón\n",
      "pvergara@ing.uc.cl cumple con el patrón\n",
      "ndelafuente@ing.puc.cl cumple con el patrón\n",
      "tnovoa@mail.uc.cl cumple con el patrón\n",
      "nnarea@myucmail.uc.cl cumple con el patrón\n",
      "nomail@gmail.coom cumple con el patrón\n",
      "juan.soto@uc.cl cumple con el patrón\n"
     ]
    }
   ],
   "source": [
    "seq = [\"cperez@gmail.com\", \"soto@uc.cl\", \"sdelcampo@gmail.com\",\n",
    "       \"lpalacios@gmeil.com\", \"rramirez@gmsil.com\", \"pvergara@ing.uc.cl\",\n",
    "       \"ndelafuente@ing.puc.cl\", \"tnovoa@mail.uc.cl\", \"nnarea@myucmail.uc.cl\",\n",
    "       \"nomail@gmail.coom\", \"juan.soto@uc.cl\"]\n",
    "pattern = \"^(\\w+\\.)?\\w+@(\\w+\\.)?\\w+.\\w{2,3}$\"\n",
    "query = REmatch.reql(pattern)\n",
    "\n",
    "for s in seq:\n",
    "    if query.check(s):\n",
    "        print(f\"{s} cumple con el patrón\")"
   ]
  },
  {
   "cell_type": "markdown",
   "metadata": {
    "id": "ziv4ZdWTGRwE"
   },
   "source": [
    "## Funciones de libreria REmatch\n",
    "\n",
    "Ya contamos con todos los operadores más importantes de expresiones regulares que están incluidos en REQL (de hecho, todos los ejemplos anteriores son patrones/consultas en el lenguaje REQL). Existen otros operadores o extensiones que nos pueden permitir simplificar nuestros patrones, pero las vistas anteriormente son las principales, y con ellas podemos hacer la mayoría de las tareas.\n",
    "\n",
    "Ahora veremos como utilizar REQL para, no solo verificar si se cumple un patrón o no, si no también para extraer las partes del documento que cumplen con este patrón. Para esto, usaremos consultas REQL y las extenderemos con variables que almacenarán las partes del string o documento que cumplen con el patrón.\n",
    "\n",
    "### Variables y captura\n",
    "\n",
    "Para entender como usar REQL y extraer partes de nuestro strings, veamos un ejemplo. Considere nuestro patrón sencillo para verificar un correo, solo que ahora le agregaremos variables para especificar las partes que queremos extraer:\n",
    "\n",
    "`^!x{(\\w+\\.)?\\w+}@!y{(\\w+\\.)?\\w+\\.\\w{2,3}}$`\n",
    "\n",
    "Nuestro nuevo patrón cuenta con dos variables. La primera variable, escrita como `!x{...}` nos permitirá obtener el identificador del correo, mientras que la segunda variable, escrita como `!y{...}` nos permitirá obtener el dominio del correo. De hecho, el identificador `x` e `y` son los nombres de estas variables, y nos permitirá referirnos por un nombre a cada captura. Estos nombres son arbitrarios, y podríamos haber ocupado identificadores más sugerentes como a continuación:\n",
    "\n",
    "`^!id{(\\w+\\.)?\\w+}@!domain{(\\w+\\.)?\\w+\\.\\w{2,3}}$`\n",
    "\n",
    "donde `id` y `domain` son los nuevos identificadores para `x` e `y`, respectivamente.\n",
    "\n",
    "Ahora que tenemos nuestras variables para capturar contenido, necesitaremos ver como utilizar la librería REmatch para extraer el contenido. Para esto, veamos un ejemplo en ejecución."
   ]
  },
  {
   "cell_type": "code",
   "execution_count": 3,
   "metadata": {
    "colab": {
     "base_uri": "https://localhost:8080/"
    },
    "executionInfo": {
     "elapsed": 804,
     "status": "ok",
     "timestamp": 1719003955585,
     "user": {
      "displayName": "Gustavo Toro",
      "userId": "09760523636946192694"
     },
     "user_tz": 240
    },
    "id": "oDviI1chGRwE",
    "outputId": "d8cdc2fb-8e62-46cd-f7ae-be9bff5f39ac"
   },
   "outputs": [
    {
     "name": "stdout",
     "output_type": "stream",
     "text": [
      "El correo cperez@gmail.com tiene id cperez y dominio gmail.com\n",
      "El correo soto@uc.cl tiene id soto y dominio uc.cl\n",
      "El correo sdelcampo@gmail.com tiene id sdelcampo y dominio gmail.com\n",
      "El correo lpalacios@gmeil.com tiene id lpalacios y dominio gmeil.com\n",
      "El correo rramirez@gmsil.com tiene id rramirez y dominio gmsil.com\n",
      "El correo pvergara@ing.uc.cl tiene id pvergara y dominio ing.uc.cl\n",
      "El correo ndelafuente@ing.puc.cl tiene id ndelafuente y dominio ing.puc.cl\n",
      "El correo tnovoa@mail.uc.cl tiene id tnovoa y dominio mail.uc.cl\n",
      "El correo nnarea@myucmail.uc.cl tiene id nnarea y dominio myucmail.uc.cl\n",
      "El correo juan.soto@uc.cl tiene id juan.soto y dominio uc.cl\n"
     ]
    }
   ],
   "source": [
    "seq = [\"cperez@gmail.com\", \"soto@uc.cl\", \"sdelcampo@gmail.com\",\n",
    "       \"lpalacios@gmeil.com\", \"rramirez@gmsil.com\", \"pvergara@ing.uc.cl\",\n",
    "       \"ndelafuente@ing.puc.cl\", \"tnovoa@mail.uc.cl\", \"nnarea@myucmail.uc.cl\",\n",
    "       \"nomail@gmail.coom\", \"juan.soto@uc.cl\"]\n",
    "pattern = \"^!id{(\\w+\\.)?\\w+}@!domain{(\\w+\\.)?\\w+\\.\\w{2,3}}$\"\n",
    "query = REmatch.reql(pattern)\n",
    "\n",
    "for s in seq:\n",
    "    match = query.findone(s)\n",
    "    if match:\n",
    "        print(\"El correo \" + s +\n",
    "              \" tiene id \" + match.group('id') +\n",
    "              \" y dominio \" + match.group('domain'))"
   ]
  },
  {
   "cell_type": "markdown",
   "metadata": {
    "id": "9WhU2jJXGRwK"
   },
   "source": [
    "Como se puede observar de este ejemplo, la función `findone` del objeto query nos devuelve un objeto `match` cuando obtiene un resultado. Este objeto `match` tiene la captura con el contenido de `id` y de `domain`. Para acceder el string capturado por estas variables, usamos la función `group` con el nombre de la variable.\n",
    "\n",
    "### Extracción de información en documentos\n",
    "\n",
    "Suponga ahora que en vez de un solo string, usted cuenta con un documento que es una lista de string separados por comas, donde algunos de estos strings pueden ser correos y otros no. Por ejemplo, un posible documento con estas caracteristicas sería el siguiente:\n",
    "\n",
    "`Carlos Perez,cperez@gmail.com,Juan Soto,soto@uc.cl,Sebastian del Campo,sdelcampo@gmail.com`\n",
    "\n",
    "Usted desea extraer los strings que son correos, junto con su identificador y dominio. Si extendemos ligeramente nuestro patrón REQL podremos identificar si un campo en los datos (esto es, un string separado por comas) es un correo y, utilizando las variables, podremos obtener el correo, el identificador y el dominio. En otras palabras, considere la siguiente consulta REQL:\n",
    "\n",
    "`(^|,)!email{!id{(\\w+\\.)?\\w+}@!domain{(\\w+\\.)?\\w+\\.\\w{2,3}}}($|,)`\n",
    "\n",
    "Lo que hicimos fue modificar el comienzo con `(^|,)` que nos permite partir desde el comienzo del string o desde una coma, y también modificar el fin con `($|,)` que nos permite terminar desde el fin del string o desde una coma.\n",
    "Esta consulta REQL busca un correo en el documento y, de encontrarlo, obtiene el correo completo, el identificador y dominio del correo.\n",
    "\n",
    "Volviendo a nuestro objetivo, nosotros queremos obtener todos los correos en esta lista y no solo saber si hay un correo o no. Para esto, al evaluar nuestra nueva consulta la función `finditer` de REmatch buscará todos los posibles **matches** de nuestro patrón en el documento, permitiendo recorrerlos uno a uno. Veamos un ejemplo de como funciona `finditer`."
   ]
  },
  {
   "cell_type": "code",
   "execution_count": null,
   "metadata": {
    "colab": {
     "base_uri": "https://localhost:8080/"
    },
    "executionInfo": {
     "elapsed": 253,
     "status": "ok",
     "timestamp": 1718714870932,
     "user": {
      "displayName": "Cristian Riveros Jaeger",
      "userId": "04593122575025783378"
     },
     "user_tz": -120
    },
    "id": "gEn6hnrNGRwL",
    "outputId": "8cf3af9a-a151-40ef-95aa-fcfc9cdffa64"
   },
   "outputs": [
    {
     "name": "stdout",
     "output_type": "stream",
     "text": [
      "El correo cperez@gmail.com tiene id cperez y dominio gmail.com\n",
      "El correo soto@uc.cl tiene id soto y dominio uc.cl\n",
      "El correo sdelcampo@gmail.com tiene id sdelcampo y dominio gmail.com\n"
     ]
    }
   ],
   "source": [
    "document = 'Carlos Perez,cperez@gmail.com,Juan Soto,soto@uc.cl,Sebastian del Campo,sdelcampo@gmail.com'\n",
    "pattern = \"(^|,)!email{!id{(\\w+\\.)?\\w+}@!domain{(\\w+\\.)?\\w+\\.\\w{2,3}}}($|,)\"\n",
    "query = REmatch.reql(pattern)\n",
    "\n",
    "for match in query.finditer(document):\n",
    "    print(\"El correo \" + match.group('email') +\n",
    "          \" tiene id \" + match.group('id') +\n",
    "          \" y dominio \" + match.group('domain'))"
   ]
  },
  {
   "cell_type": "markdown",
   "metadata": {
    "id": "q-RyBr-JGRwP"
   },
   "source": [
    "### Superposición de resultados\n",
    "\n",
    "Es importante notar que REmatch buscará todas las ocurrencias de nuestro patrón en el documento, posiblemente con contenidos repetidos en el documento. Para entender esto, tratemos ahora de buscar todos los campos que estan entre comas con la consulta REQL:\n",
    "\n",
    "`(^|,)!text{.+}($|,)`\n",
    "\n",
    "Este patrón buscara el comienzo del documento o una coma, seguido de uno o más caracteres, y terminado en el fin del documento o una coma. Por último la secuencia de uno o más caracteres será almacenado en la variable `text`. Comprobemos ahora como funciona este patrón REQL en REmatch y que será lo que entregará la función `finditer`."
   ]
  },
  {
   "cell_type": "code",
   "execution_count": null,
   "metadata": {
    "colab": {
     "base_uri": "https://localhost:8080/"
    },
    "executionInfo": {
     "elapsed": 312,
     "status": "ok",
     "timestamp": 1718714917520,
     "user": {
      "displayName": "Cristian Riveros Jaeger",
      "userId": "04593122575025783378"
     },
     "user_tz": -120
    },
    "id": "PmRJRZT4GRwS",
    "outputId": "53b5a28b-a814-4e25-9e07-d180b13c5bf1"
   },
   "outputs": [
    {
     "name": "stdout",
     "output_type": "stream",
     "text": [
      "El texto encontrado fue Carlos Perez\n",
      "El texto encontrado fue cperez@gmail.com\n",
      "El texto encontrado fue Carlos Perez,cperez@gmail.com\n",
      "El texto encontrado fue Juan Soto\n",
      "El texto encontrado fue cperez@gmail.com,Juan Soto\n",
      "El texto encontrado fue Carlos Perez,cperez@gmail.com,Juan Soto\n",
      "El texto encontrado fue soto@uc.cl\n",
      "El texto encontrado fue Juan Soto,soto@uc.cl\n",
      "El texto encontrado fue cperez@gmail.com,Juan Soto,soto@uc.cl\n",
      "El texto encontrado fue Carlos Perez,cperez@gmail.com,Juan Soto,soto@uc.cl\n",
      "El texto encontrado fue Sebastian del Campo\n",
      "El texto encontrado fue soto@uc.cl,Sebastian del Campo\n",
      "El texto encontrado fue Juan Soto,soto@uc.cl,Sebastian del Campo\n",
      "El texto encontrado fue cperez@gmail.com,Juan Soto,soto@uc.cl,Sebastian del Campo\n",
      "El texto encontrado fue Carlos Perez,cperez@gmail.com,Juan Soto,soto@uc.cl,Sebastian del Campo\n",
      "El texto encontrado fue sdelcampo@gmail.com\n",
      "El texto encontrado fue Sebastian del Campo,sdelcampo@gmail.com\n",
      "El texto encontrado fue soto@uc.cl,Sebastian del Campo,sdelcampo@gmail.com\n",
      "El texto encontrado fue Juan Soto,soto@uc.cl,Sebastian del Campo,sdelcampo@gmail.com\n",
      "El texto encontrado fue cperez@gmail.com,Juan Soto,soto@uc.cl,Sebastian del Campo,sdelcampo@gmail.com\n",
      "El texto encontrado fue Carlos Perez,cperez@gmail.com,Juan Soto,soto@uc.cl,Sebastian del Campo,sdelcampo@gmail.com\n"
     ]
    }
   ],
   "source": [
    "document = 'Carlos Perez,cperez@gmail.com,Juan Soto,soto@uc.cl,Sebastian del Campo,sdelcampo@gmail.com'\n",
    "pattern = \"(^|,)!text{.+}($|,)\"\n",
    "query = REmatch.reql(pattern)\n",
    "\n",
    "for match in query.finditer(document):\n",
    "    print(\"El texto encontrado fue \" + match.group('text'))"
   ]
  },
  {
   "cell_type": "markdown",
   "metadata": {
    "id": "oo8bjNFVGRwV"
   },
   "source": [
    "Puede ver que REmatch encontro todos los campos entre comas, pero tambien campos que cruzan entre una o más comas. Recuerde que `.+` buscará calzar con \"uno o más\" caracteres y como la coma es un carácter, también cumple con lo especificado. Si queremos encontrar todos los campos, entonces tenemos que decirle a REmatch que encuentre uno o más caracteres que **no** sea una coma. Esto ya lo sabemos hacer con la clase `[^,]`, por lo cual, el patrón que necesitamos será el siguiente:\n",
    "\n",
    "`(^|,)!text{[^,]+}($|,)`\n",
    "\n",
    "Si probamos este patrón en el documento anterior, podremos ver que ahora si encontraremos solo los campos entre dos comas consecutivas."
   ]
  },
  {
   "cell_type": "code",
   "execution_count": null,
   "metadata": {
    "colab": {
     "base_uri": "https://localhost:8080/"
    },
    "executionInfo": {
     "elapsed": 299,
     "status": "ok",
     "timestamp": 1718714950650,
     "user": {
      "displayName": "Cristian Riveros Jaeger",
      "userId": "04593122575025783378"
     },
     "user_tz": -120
    },
    "id": "ZSY4DSt_GRwW",
    "outputId": "371383d3-1594-428f-c240-4c2304fec4c9"
   },
   "outputs": [
    {
     "name": "stdout",
     "output_type": "stream",
     "text": [
      "El campo encontrado fue \"Carlos Perez\"\n",
      "El campo encontrado fue \"cperez@gmail.com\"\n",
      "El campo encontrado fue \"Juan Soto\"\n",
      "El campo encontrado fue \"soto@uc.cl\"\n",
      "El campo encontrado fue \"Sebastian del Campo\"\n",
      "El campo encontrado fue \"sdelcampo@gmail.com\"\n"
     ]
    }
   ],
   "source": [
    "document = 'Carlos Perez,cperez@gmail.com,Juan Soto,soto@uc.cl,Sebastian del Campo,sdelcampo@gmail.com'\n",
    "pattern = \"(^|,)!text{[^,]+}($|,)\"\n",
    "query = REmatch.reql(pattern)\n",
    "\n",
    "for match in query.finditer(document):\n",
    "    print('El campo encontrado fue \"{0}\"'.format(match.group('text')))"
   ]
  },
  {
   "cell_type": "markdown",
   "metadata": {
    "id": "BVy-bRh5GRwa"
   },
   "source": [
    "### Groups versus spans\n",
    "\n",
    "Hasta ahora hemos extraido el contenido de cada captura. Muchas veces también nos interesa saber la posición donde aparece ese contenido, más que el contenido mismo. La posición del contenido en el documento viene dado por lo que se conoce como un *span*, que es un par `(i, j)` con `i` menor que `j`. Este span `(i,j)` define un intervalo del string, o sea, define el contenido desde el carácter `i` hasta el carácter `j`. Si volvemos a nuestro ejemplo anterior de campos de un documento, podemos extraer las posiciones de donde aparce cada campo `text`, utilizando el método `span` de un match."
   ]
  },
  {
   "cell_type": "code",
   "execution_count": null,
   "metadata": {
    "colab": {
     "base_uri": "https://localhost:8080/"
    },
    "executionInfo": {
     "elapsed": 269,
     "status": "ok",
     "timestamp": 1718715012835,
     "user": {
      "displayName": "Cristian Riveros Jaeger",
      "userId": "04593122575025783378"
     },
     "user_tz": -120
    },
    "id": "HrmnOX_VGRwa",
    "outputId": "b494d1f1-a962-4c3e-cbe2-5017d4a9fde3"
   },
   "outputs": [
    {
     "name": "stdout",
     "output_type": "stream",
     "text": [
      "El campo encontrado fue \"Carlos Perez\" en la posición (0, 12)\n",
      "El campo encontrado fue \"cperez@gmail.com\" en la posición (13, 29)\n",
      "El campo encontrado fue \"Juan Soto\" en la posición (30, 39)\n",
      "El campo encontrado fue \"soto@uc.cl\" en la posición (40, 50)\n",
      "El campo encontrado fue \"Sebastian del Campo\" en la posición (51, 70)\n",
      "El campo encontrado fue \"sdelcampo@gmail.com\" en la posición (71, 90)\n"
     ]
    }
   ],
   "source": [
    "document = 'Carlos Perez,cperez@gmail.com,Juan Soto,soto@uc.cl,Sebastian del Campo,sdelcampo@gmail.com'\n",
    "pattern = \"(^|,)!text{[^,]+}($|,)\"\n",
    "query = REmatch.reql(pattern)\n",
    "for match in query.finditer(document):\n",
    "    print('El campo encontrado fue \"{0}\" en la posición {1}'.format(match.group('text'), match.span('text')))"
   ]
  },
  {
   "cell_type": "markdown",
   "metadata": {
    "id": "I2psBGE2GRwf"
   },
   "source": [
    "Es importante notar que el span de un match nos dice el contexto donde aparece el contenido, y esto nos puede ayudar para saber si este aparece al comienzo del documento, al final, etc. Para manejo de spans y groups, el objeto `match` cuenta con las siguientes funcionalidades:\n",
    "\n",
    "- `start(id-variable)`: entrega la posición inicial del span de la variable con nombre `id-variable`.\n",
    "- `end(id-variable)`: entrega la posición final del span de la variable con nombre `id-variable`."
   ]
  },
  {
   "cell_type": "markdown",
   "metadata": {
    "id": "lsrX4-lcGRwf"
   },
   "source": [
    "# ¿Por qué utilizamos la librería REmatch?\n",
    "\n",
    "REmatch es una librería para extracción de información desarrollada por investigadores y alumnos del Departamento de Ciencia de la Computación de la Escuela de Ingeniería. Esta librería cuenta con varias ventajas con respecto a otras librerías.\n",
    "\n",
    "REmatch es una librería orientada a extraer información desde archivos de texto grandes, y no solo a la búsqueda de un patron adentro del texto. En este contexto, REmatch permite extraer *todos* los matches, y no solo encontrar el primer match. Con todos los matches nos referimos que REmatch también puede detectar matches solapados, que es algo fuera del alcance de otras librerías, y muy útil en varios contextos, cómo, por ejemplo, en el análisis de secuencias de ADN, procesamiento de logs, texto natural, etc.\n",
    "\n",
    "Adicionalmente, REmatch es orientado a procesar documentos grandes de manera muy rápida, y extraer información de manera muy eficiente. Por lo tanto, REmatch evita las debilidades de varias otras librerías de expresiones regulares, y no permite ataques de estilo ReDos (ver https://en.wikipedia.org/wiki/ReDoS), a los cuales padecen muchas librerías clasicas de expresiones regulares.\n",
    "\n",
    "Para aprender más sobre la librería REmatch, te invitamos visitar nuestra página web https://rematch.cl donde podrás encontrar tutoriales y ejemplos de como escribir patrones en REQL y probarlos directamente. También te invitamos a visitar el github https://github.com/REmatchChile/REmatch/ o su wiki https://github.com/REmatchChile/REmatch/wiki."
   ]
  }
 ],
 "metadata": {
  "colab": {
   "provenance": []
  },
  "kernelspec": {
   "display_name": "Python 3 (ipykernel)",
   "language": "python",
   "name": "python3"
  },
  "language_info": {
   "codemirror_mode": {
    "name": "ipython",
    "version": 3
   },
   "file_extension": ".py",
   "mimetype": "text/x-python",
   "name": "python",
   "nbconvert_exporter": "python",
   "pygments_lexer": "ipython3",
   "version": "3.10.12"
  }
 },
 "nbformat": 4,
 "nbformat_minor": 1
}

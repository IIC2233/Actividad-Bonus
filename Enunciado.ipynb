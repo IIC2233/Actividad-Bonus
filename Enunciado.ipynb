{
 "cells": [
  {
   "cell_type": "markdown",
   "metadata": {},
   "source": [
    "# Preambulo"
   ]
  },
  {
   "cell_type": "markdown",
   "metadata": {
    "id": "PDEMNK2VDSBn"
   },
   "source": [
    "## Introducción\n",
    "En esta actividad analizaremos el contenido de las páginas de Wikipedia a través de las herramientas que nos da la librería REmatch.\n",
    "\n",
    "Primero, extraeremos el contenido de una página de Wikipedia, usando la librería de Python `wikipedia` que nos permite acceder páginas de Wikipedia a travez de una API. Luego, accederemos la página de Wikipedia sobre Chile (en inglés)."
   ]
  },
  {
   "cell_type": "code",
   "execution_count": null,
   "metadata": {
    "id": "WGdHkEe6DSBp"
   },
   "outputs": [],
   "source": [
    "!pip3 install --upgrade wikipedia pyrematch"
   ]
  },
  {
   "cell_type": "code",
   "execution_count": null,
   "metadata": {
    "id": "KNkpuUlMDSBq"
   },
   "outputs": [],
   "source": [
    "import wikipedia\n",
    "text = wikipedia.page(\"Chile\", auto_suggest=False).content\n",
    "\n",
    "# Imprimir los primeros 2000 caracteres\n",
    "print(text[:2000], '...')"
   ]
  },
  {
   "cell_type": "markdown",
   "metadata": {
    "id": "wumaTMdiDSBr"
   },
   "source": [
    "Ahora, en la variable `text`, tenemos un _string_ con el contenido de la página de Wikipedia correspondiente a Chile (versión inglés). Una ventaja que tiene esta librería es que el _string_ no contiene los comandos de HTML que aparecen en la versión `source` de la página y, adicionalmente, esta versión textual tampoco contiene los _links_ ni los _infoboxes_ de Wikipedia.\n",
    "\n",
    "En otras palabras, esto es una versión textual del sitio, que contiene todas las secciones, subsecciones, y subsubsecciones (o incluso más subs si es necesario) de la página, junto con el texto que contienen estos elementos.\n",
    "\n",
    "En este formato, para especificar una sección basta con escribir `== Nombre sección ==` en una sola línea del texto. Aquí es importante observar que entre el último `=` y el nombre de la sección **debe haber un espacio**, y similarmente, al final del nombre hay un espacio antes del `=`.\n",
    "\n",
    "El que los _header_ se especifiquen en una linea de texto, sin ningún caracter más, será importante para definir nuestras consultas. De la misma manera, la subsección se especifica con `=== Nombre subsección ===`, y el delimitador para la subsubsección contiene cuatro símbolos `=`, es decor, `==== Nombre subsubsección ====`."
   ]
  },
  {
   "cell_type": "markdown",
   "metadata": {
    "id": "umfWsFD-DSBr"
   },
   "source": [
    "En esta actividad, usará la librería REmatch para extraer contenido como secciones y subsecciones de una página de wikipedia. La actividad está dividida en seis consultas que debes resolver.\n",
    "\n",
    "Para cada consulta será necesario definir una consulta REQL, compilarla en REmatch e iterar sobre los resultados obtenidos a través de un `query.findIter(text)`. La forma de iterar, junto con cómo acceder al contenido y la posición de un _match_ se explican en el tutorial publicado. \n",
    "\n",
    "En el enunciado de cada consulta se darán algunos resultados de ejemplo, para que puedan ver el resultado esperado. Sin embargo, dado que Wikipedia se actualiza constantemente, es posible que los _spans_ mostrados en el ejemplo sean ligeramente distintos a los que encuentren."
   ]
  },
  {
   "cell_type": "markdown",
   "metadata": {},
   "source": [
    "## Archivos\n",
    "\n",
    "Este repositorio contiene cinco archivos:\n",
    "* `Tutorial.ipynb`: Archivo de tutorial sobre cómo instalar y utilizar la librería REMatch. Te recomendamos revisar el tutorial antes de comenzar a desarrollar la actividad.\n",
    "\n",
    "* `Enunciado.ipynb`: Este archivo.\n",
    "\n",
    "* `consultas.py`: Archivo principal a completar. Debes rellenar este archivo con los patrones y el código Python de cada consulta. El programa recibe el nombre de un artículo de Wikipedia (por consola), descarga su contenido, ejecuta las consultas e imprime y guarda sus _outputs_ en el formato esperado.\n",
    "\n",
    "* `out.txt`: Archivo creado automáticamente por `consultas.py` con el _output_ en el formato esperado. Es obligatorio que se entregue el _output_ exactamente en este formato, pues su solución será probado usando tests automáticos con distintas páginas de Wikipedia.\n",
    "\n",
    "  Si bien el orden de los resultados dentro de cada consulta no es relevante, es importante destacar que cada consulta tiene un formato de _output_ distinto. Por ejemplo, la Consulta 1 tiene 'Título' y 'Posición', en cambio la Consulta 6 tiene 'Subtítulo' y 'Contenido'.  \n",
    "\n",
    "- `out_ejemplo.txt`: Archivo de ejemplo con los outputs correspondientes a ejecutar el código sobre el artículo de `\"Chile\"` en idioma inglés. Puedes usarlo para comparar tu solución con la solución esperada."
   ]
  },
  {
   "cell_type": "markdown",
   "metadata": {},
   "source": [
    "## Formato de entrega\n",
    "Para entregar tu solución deberás crear una nueva carpeta llamada `ACB/`, dentro de la carpeta `Actividades/` de tu repositorio personal. Dentro de esta carpeta, deberás subir dos archivos: el archivo `consultas.py` y el archivo `out.txt` con el formato comentado anteriormente."
   ]
  },
  {
   "cell_type": "markdown",
   "metadata": {},
   "source": [
    "# Consultas\n",
    "Debes completar el archivo `consultas.py`, rellenando los patrones con las expresiones detalladas a continuación y las funciones `consultaN` con el código necesario para ser ejecutadas.\n",
    "\n",
    "Todas las consultas deben retornar una lista de tuplas, donde cada tupla contiene 3 elementos; el match encontrado y las posiciones de inicio y término del _span_ pedido."
   ]
  },
  {
   "cell_type": "markdown",
   "metadata": {
    "id": "QQahbT-MDSBr"
   },
   "source": [
    "## Consulta N°1\n",
    "\n",
    "En el preámbulo explicamos cómo se identifican las secciones y sub(sub)?secciones. En esta primera consulta, deberás obtener todos los títulos de secciones del documento, junto con la posición donde aparecen (su _span_).\n",
    "\n",
    "Los resultados en el caso de la página de `\"Chile\"` son:\n",
    "```\n",
    "- Título: 'Etymology' - Posición: (2734, 2743)\n",
    "- Título: 'History' - Posición: (4101, 4108)\n",
    "- Título: 'Geography' - Posición: (25925, 25934)\n",
    "- Título: 'Government and politics' - Posición: (37710, 37733)\n",
    "- Título: 'Economy' - Posición: (48093, 48100)\n",
    "- Título: 'Demographics' - Posición: (63072, 63084)\n",
    "- Título: 'Culture' - Posición: (75427, 75434)\n",
    "- Título: 'See also' - Posición: (84128, 84136)\n",
    "- Título: 'References' - Posición: (84222, 84232)\n",
    "- Título: 'Further reading' - Posición: (84277, 84292)\n",
    "- Título: 'External links' - Posición: (84301, 84315)\n",
    "```\n"
   ]
  },
  {
   "cell_type": "markdown",
   "metadata": {
    "id": "5c3g64DkDSBs"
   },
   "source": [
    "## Consulta N°2\n",
    "Ahora vamos un nivel más abajo, y pedimos obtener todos los títulos de subsecciones del documento y las posiciones donde aparecen (su _span_).\n",
    "\n",
    "Algunos de los resultados son, entre otros:\n",
    "```\n",
    "- Subtítulo: 'Early history' - Posición: (4118, 4131)\n",
    "- Subtítulo: 'Spanish colonization' - Posición: (5001, 5021)\n",
    "- Subtítulo: 'Independence and nation building' - Posición: (8781, 8813)\n",
    "- Subtítulo: '20th century' - Posición: (14168, 14180)\n",
    "- Subtítulo: '21st century' - Posición: (22424, 22436)\n",
    "- Subtítulo: 'Topography' - Posición: (28307, 28317)\n",
    "```"
   ]
  },
  {
   "cell_type": "markdown",
   "metadata": {
    "id": "6wg4z3FxDSBs"
   },
   "source": [
    "## Consulta N°3\n",
    "Ahora vamos aún más adentro de una subsección, y buscamos encontrar cada subsubsección del documento y su contenido, imprimiendo el subsubtítulo y su contenido.\n",
    "\n",
    "A diferencia de otras consultas, aquí nos interesa el contenido de la subsubsección, es decir, el texto que aparece en esta subsubsección y que termina con el inicio de la siguiente sección, subsección o subsubsección.\n",
    "\n",
    "Dado que el contenido de una subsubsección puede ser muy extenso, **solo imprimiremos la posición donde aparece**, esto es, el _span_ del contenido.\n",
    "\n",
    "El único resultado en este caso sería:\n",
    "```\n",
    "- Subsubtítulo: 'Pinochet era (1973–1990)' - Posición: (19806, 22419)\n",
    "```"
   ]
  },
  {
   "cell_type": "markdown",
   "metadata": {
    "id": "xC0XQk1fDSBt"
   },
   "source": [
    "## Consulta N°4\n",
    "Ahora buscamos encontrar cada sección del documento que **NO** tenga una subsección, imprimiendo el título y su contenido (nuevamente, su _span_).\n",
    "\n",
    "El único resultado en este caso sería:\n",
    "```\n",
    "- Título: 'Etymology' - Posición: (2747, 4097)\n",
    "```"
   ]
  },
  {
   "cell_type": "markdown",
   "metadata": {
    "id": "_xo2OR5MDSBt"
   },
   "source": [
    "## Consulta N°5\n",
    "Esta consulta es parecida a la Consulta 3, pero ahora buscamos encontrar cada subsección del documento y extraer su contenido. Nuevamente, imprimiremos el subtítulo y el _span_ de su contenido. Para efectos prácticos, estamos un nivel \"más alto\" que en la Consulta 3.\n",
    "\n",
    "**Algunos** resultados de ejemplo para nuestro texto serían:\n",
    "```\n",
    "- Subtítulo: 'Early history' - Posición: (4136, 4996)\n",
    "- Subtítulo: 'Spanish colonization' - Posición: (5026, 8776)\n",
    "- Subtítulo: 'Independence and nation building' - Posición: (8818, 14163)\n",
    "- Subtítulo: '20th century' - Posición: (14185, 22419)\n",
    "- Subtítulo: '21st century' - Posición: (22441, 25921)\n",
    "- Subtítulo: 'Topography' - Posición: (28322, 32865)\n",
    "```"
   ]
  },
  {
   "cell_type": "markdown",
   "metadata": {
    "id": "DGMaBEg-DSBt"
   },
   "source": [
    "## Consulta N°6\n",
    "Finalmente, en esta consulta buscamos encontrar cada subsección del documento que tenga al menos una subsubsección y extraer su contenido, imprimiendo el subtítulo y su contenido (_span_).\n",
    "\n",
    "El único resultado en este caso sería:\n",
    "```\n",
    "- Subtítulo: '20th century' - Posición: (14185, 22419)\n",
    "```"
   ]
  }
 ],
 "metadata": {
  "colab": {
   "provenance": []
  },
  "kernelspec": {
   "display_name": "Python 3 (ipykernel)",
   "language": "python",
   "name": "python3"
  },
  "language_info": {
   "codemirror_mode": {
    "name": "ipython",
    "version": 3
   },
   "file_extension": ".py",
   "mimetype": "text/x-python",
   "name": "python",
   "nbconvert_exporter": "python",
   "pygments_lexer": "ipython3",
   "version": "3.10.12"
  }
 },
 "nbformat": 4,
 "nbformat_minor": 1
}
